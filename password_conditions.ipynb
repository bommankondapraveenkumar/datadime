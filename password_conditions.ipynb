{
  "nbformat": 4,
  "nbformat_minor": 0,
  "metadata": {
    "colab": {
      "name": "Untitled0.ipynb",
      "provenance": [],
      "collapsed_sections": [],
      "authorship_tag": "ABX9TyNxxYu0DTVdulPQOsoPsbd3",
      "include_colab_link": true
    },
    "kernelspec": {
      "name": "python3",
      "display_name": "Python 3"
    }
  },
  "cells": [
    {
      "cell_type": "markdown",
      "metadata": {
        "id": "view-in-github",
        "colab_type": "text"
      },
      "source": [
        "<a href=\"https://colab.research.google.com/github/bommankondapraveenkumar/datadime/blob/master/password_conditions.ipynb\" target=\"_parent\"><img src=\"https://colab.research.google.com/assets/colab-badge.svg\" alt=\"Open In Colab\"/></a>"
      ]
    },
    {
      "cell_type": "code",
      "metadata": {
        "id": "QH0FKNmNEUk5",
        "colab_type": "code",
        "colab": {}
      },
      "source": [
        ""
      ],
      "execution_count": null,
      "outputs": []
    },
    {
      "cell_type": "code",
      "metadata": {
        "id": "rJQK0i-yEVvl",
        "colab_type": "code",
        "colab": {}
      },
      "source": [
        "import re\n",
        "a=input(\"enter the strong password\")\n",
        "count=0\n",
        "while True:\n",
        "  if (len(a)<8):\n",
        "    count=-1\n",
        "    break\n",
        "  elif not re.search(\"[A-Z]\",a):\n",
        "    count=-1\n",
        "    break\n",
        "  elif not re.search(\"[0-9]\",a):\n",
        "    count=-1\n",
        "    break\n",
        "  elif not re.search(\"[_@$]\",a):\n",
        "    count=-1\n",
        "    break\n",
        "  elif not re.search(\"[a-z]\",a):\n",
        "    count=-1\n",
        "    break\n",
        "  elif re.search(\"\\s\",a):\n",
        "    count=-1\n",
        "    break\n",
        "  else:\n",
        "    count=0\n",
        "    print(\"valid password\")\n",
        "    break\n",
        "\n",
        "if count is not 0:\n",
        "    print(\"not a valid password\")"
      ],
      "execution_count": null,
      "outputs": []
    }
  ]
}