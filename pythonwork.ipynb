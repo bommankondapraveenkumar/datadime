{
  "nbformat": 4,
  "nbformat_minor": 0,
  "metadata": {
    "colab": {
      "name": "Untitled1.ipynb",
      "provenance": [],
      "collapsed_sections": [],
      "authorship_tag": "ABX9TyMtnUOVS2fqCXKr97FOtnsg",
      "include_colab_link": true
    },
    "kernelspec": {
      "name": "python3",
      "display_name": "Python 3"
    }
  },
  "cells": [
    {
      "cell_type": "markdown",
      "metadata": {
        "id": "view-in-github",
        "colab_type": "text"
      },
      "source": [
        "<a href=\"https://colab.research.google.com/github/bommankondapraveenkumar/datadime/blob/master/pythonwork.ipynb\" target=\"_parent\"><img src=\"https://colab.research.google.com/assets/colab-badge.svg\" alt=\"Open In Colab\"/></a>"
      ]
    },
    {
      "cell_type": "code",
      "metadata": {
        "id": "u5Fi6jGojva1",
        "colab_type": "code",
        "colab": {
          "base_uri": "https://localhost:8080/",
          "height": 118
        },
        "outputId": "c0ec8e91-5adf-4f39-a1a3-22b5b4c48561"
      },
      "source": [
        "def mailing_address():\n",
        "  print(\" Mailing_Address:\\n H.NO:1-7-47/5/G\\n Bapaunagar\\n Adarsha Hills\\n Narayanpet\\n\")\n",
        "mailing_address()"
      ],
      "execution_count": 12,
      "outputs": [
        {
          "output_type": "stream",
          "text": [
            " Mailing_Address:\n",
            " H.NO:1-7-47/5/G\n",
            " Bapaunagar\n",
            " Adarsha Hills\n",
            " Narayanpet\n",
            "\n"
          ],
          "name": "stdout"
        }
      ]
    },
    {
      "cell_type": "code",
      "metadata": {
        "id": "u45J-b_Dv5CP",
        "colab_type": "code",
        "colab": {
          "base_uri": "https://localhost:8080/",
          "height": 50
        },
        "outputId": "0eb242e1-830a-4ec4-f7f4-f5f7addcb5ac"
      },
      "source": [
        "def hello():\n",
        "  c=input(\"eneter your name\")\n",
        "  print(\"hello\",c)\n",
        "hello()"
      ],
      "execution_count": 14,
      "outputs": [
        {
          "output_type": "stream",
          "text": [
            "eneter your namepraveen\n",
            "hello praveen\n"
          ],
          "name": "stdout"
        }
      ]
    },
    {
      "cell_type": "code",
      "metadata": {
        "id": "kFcEeajSzUUs",
        "colab_type": "code",
        "colab": {
          "base_uri": "https://localhost:8080/",
          "height": 101
        },
        "outputId": "3abe5bda-fb10-4a87-f3e6-7dade780fdec"
      },
      "source": [
        "def area():\n",
        "  length=float(input(\"enter the length:\\n\"))\n",
        "  width=float(input(\"enter the width:\\n\"))\n",
        "  room_area=length*width\n",
        "  print(\"%.2f\" %room_area,\"feet\")\n",
        "area()"
      ],
      "execution_count": 26,
      "outputs": [
        {
          "output_type": "stream",
          "text": [
            "enter the length:\n",
            "89.90\n",
            "enter the width:\n",
            "98.09\n",
            "8818.29 feet\n"
          ],
          "name": "stdout"
        }
      ]
    },
    {
      "cell_type": "code",
      "metadata": {
        "id": "gXsfRSLw7o_Z",
        "colab_type": "code",
        "colab": {
          "base_uri": "https://localhost:8080/",
          "height": 101
        },
        "outputId": "7b26e01b-07df-4857-ebba-7ad24dce58df"
      },
      "source": [
        "def square_feet():\n",
        "  square_feet=43560\n",
        "  length=float(input(\"length in feet\\n\"))\n",
        "  width=float(input(\"width in feet\\n\"))\n",
        "  acre=(length*width)/square_feet\n",
        "  print(\"%.2f\" %acre, \"acres\")\n",
        "square_feet()\n"
      ],
      "execution_count": 30,
      "outputs": [
        {
          "output_type": "stream",
          "text": [
            "length in feet\n",
            "1000\n",
            "width in feet\n",
            "1000\n",
            "22.96 acres\n"
          ],
          "name": "stdout"
        }
      ]
    },
    {
      "cell_type": "code",
      "metadata": {
        "id": "wCmrTUWLB8tl",
        "colab_type": "code",
        "colab": {
          "base_uri": "https://localhost:8080/",
          "height": 101
        },
        "outputId": "ce12ef82-a1f6-462f-b60b-6e00d2c7c1b6"
      },
      "source": [
        "less_p=0.10\n",
        "more_p=0.25\n",
        "less=float(input(\"enter less than 1 lt drinks quantity:\\n\"))\n",
        "more=float(input(\"enter more than 1 lt quantity:\\n\"))\n",
        "total_refund=less*less_p+more*more_p\n",
        "print(\"total refund is %.2f\" %total_refund)"
      ],
      "execution_count": 32,
      "outputs": [
        {
          "output_type": "stream",
          "text": [
            "enter less than 1 lt drinks quantity:\n",
            "2.4\n",
            "enter more than 1 lt quantity:\n",
            "3.4\n",
            "total refund is 1.09\n"
          ],
          "name": "stdout"
        }
      ]
    },
    {
      "cell_type": "code",
      "metadata": {
        "id": "3i0d_pSOE_M6",
        "colab_type": "code",
        "colab": {
          "base_uri": "https://localhost:8080/",
          "height": 118
        },
        "outputId": "b0fb3193-802f-4f0f-c3ad-0adba33bea80"
      },
      "source": [
        "meal_cost=float(input(\"enter the meal cost:$\\n\"))\n",
        "tip=0.18*meal_cost\n",
        "tax=0.10*meal_cost\n",
        "grand_total=meal_cost+tip+tax\n",
        "print(\"meal_cost\",meal_cost,\"tip\",\"$%.2f\\n\" %tip,\"tax\",\"$%.2f\\n\" %tax,\"grand total is $ %.2f\\n\" %grand_total)"
      ],
      "execution_count": 41,
      "outputs": [
        {
          "output_type": "stream",
          "text": [
            "enter the meal cost:$\n",
            "3\n",
            "meal_cost 3.0 tip $0.54\n",
            " tax $0.30\n",
            " grand total is $ 3.84\n",
            "\n"
          ],
          "name": "stdout"
        }
      ]
    },
    {
      "cell_type": "code",
      "metadata": {
        "id": "Odab-GubHORq",
        "colab_type": "code",
        "colab": {
          "base_uri": "https://localhost:8080/",
          "height": 67
        },
        "outputId": "fc66255f-464c-4372-80da-deaf7bcd5522"
      },
      "source": [
        "n=int(input(\"enter a number\\n\"))\n",
        "sum=int(n*n+n)/2\n",
        "print(\"sum of positive numbers for\",n,\"is : %.f\" %sum)"
      ],
      "execution_count": 49,
      "outputs": [
        {
          "output_type": "stream",
          "text": [
            "enter a number\n",
            "99\n",
            "sum of positive numbers for 99 is : 4950\n"
          ],
          "name": "stdout"
        }
      ]
    },
    {
      "cell_type": "code",
      "metadata": {
        "id": "3kcThuOO0afc",
        "colab_type": "code",
        "colab": {}
      },
      "source": [
        ""
      ],
      "execution_count": null,
      "outputs": []
    }
  ]
}