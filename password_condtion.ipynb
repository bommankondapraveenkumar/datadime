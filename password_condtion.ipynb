{
  "nbformat": 4,
  "nbformat_minor": 0,
  "metadata": {
    "colab": {
      "name": "Untitled0.ipynb",
      "provenance": [],
      "collapsed_sections": [],
      "authorship_tag": "ABX9TyMHkJywMZbZfq6F6aeJW4J7",
      "include_colab_link": true
    },
    "kernelspec": {
      "name": "python3",
      "display_name": "Python 3"
    }
  },
  "cells": [
    {
      "cell_type": "markdown",
      "metadata": {
        "id": "view-in-github",
        "colab_type": "text"
      },
      "source": [
        "<a href=\"https://colab.research.google.com/github/bommankondapraveenkumar/datadime/blob/master/password_condtion.ipynb\" target=\"_parent\"><img src=\"https://colab.research.google.com/assets/colab-badge.svg\" alt=\"Open In Colab\"/></a>"
      ]
    },
    {
      "cell_type": "code",
      "metadata": {
        "id": "QH0FKNmNEUk5",
        "colab_type": "code",
        "colab": {}
      },
      "source": [
        ""
      ],
      "execution_count": null,
      "outputs": []
    },
    {
      "cell_type": "code",
      "metadata": {
        "id": "rJQK0i-yEVvl",
        "colab_type": "code",
        "colab": {}
      },
      "source": [
        "import re\n",
        "a=input(\"enter the strong password\")\n",
        "count=0\n",
        "while True:\n",
        "  if (len(a)<8):\n",
        "    count=-1\n",
        "    break\n",
        "  elif not re.search(\"[A-Z]\",a):\n",
        "    count=-1\n",
        "    break\n",
        "  elif not re.search(\"[0-9]\",a):\n",
        "    count=-1\n",
        "    break\n",
        "  elif not re.search(\"[_@$]\",a):\n",
        "    count=-1\n",
        "    break\n",
        "  elif not re.search(\"[a-z]\",a):\n",
        "    count=-1\n",
        "    break\n",
        "  elif re.search(\"\\s\",a):\n",
        "    count=-1\n",
        "    break\n",
        "  else:\n",
        "    count=0\n",
        "    print(\"valid password\")\n",
        "    break\n",
        "\n",
        "if count is not 0:\n",
        "    print(\"not a valid password\")"
      ],
      "execution_count": null,
      "outputs": []
    },
    {
      "cell_type": "code",
      "metadata": {
        "id": "GmFuTEirFe8m",
        "colab_type": "code",
        "colab": {
          "base_uri": "https://localhost:8080/",
          "height": 185
        },
        "outputId": "528da1d4-eadc-4b5b-f0b6-db350d22268c"
      },
      "source": [
        "a=input(\"enter the password\")\n",
        "b,c,d,e=0,0,0,0\n",
        "if (len(a)>=8):\n",
        "  for i in a:\n",
        "    if (i.islower()):\n",
        "      b+=1\n",
        "    elif (i.isupper()):\n",
        "      c+=1\n",
        "    elif (i.isdigit()):\n",
        "      d+=1\n",
        "    elif (i=='@' or i=='_' or i=='$' or i=='%'):\n",
        "      e+=1\n",
        "if (b>=1 and c>=1 and d>=1 and e>=1 and b+c+d+e==len(a)):\n",
        "  print(\"valid pass word\\n\")\n",
        "else:\n",
        "  print(\"not a valid password\\n\")\n",
        "  print(\"try adding the conditions\\n\\n\" + \n",
        "  \"1.at least 8 characters\\n\"+\n",
        "  \"2.one uppercase\\n\"+\n",
        "  \"3.one lower case\\n\" +\n",
        "  \"4.one special character\\n\")"
      ],
      "execution_count": 1,
      "outputs": [
        {
          "output_type": "stream",
          "text": [
            "enter the passwordM\n",
            "not a valid password\n",
            "\n",
            "try adding the conditions\n",
            "\n",
            "1.at least 8 characters\n",
            "2.one uppercase\n",
            "3.one lower case\n",
            "4.one special character\n",
            "\n"
          ],
          "name": "stdout"
        }
      ]
    }
  ]
}