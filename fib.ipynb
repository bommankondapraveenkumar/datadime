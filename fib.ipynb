{
  "nbformat": 4,
  "nbformat_minor": 0,
  "metadata": {
    "colab": {
      "name": "Untitled0.ipynb",
      "provenance": [],
      "authorship_tag": "ABX9TyPd/Yi6Q17yKM1d0o4sDKpf",
      "include_colab_link": true
    },
    "kernelspec": {
      "name": "python3",
      "display_name": "Python 3"
    }
  },
  "cells": [
    {
      "cell_type": "markdown",
      "metadata": {
        "id": "view-in-github",
        "colab_type": "text"
      },
      "source": [
        "<a href=\"https://colab.research.google.com/github/bommankondapraveenkumar/datadime/blob/master/fib.ipynb\" target=\"_parent\"><img src=\"https://colab.research.google.com/assets/colab-badge.svg\" alt=\"Open In Colab\"/></a>"
      ]
    },
    {
      "cell_type": "code",
      "metadata": {
        "id": "qfsT6jPCLsJd",
        "colab_type": "code",
        "colab": {
          "base_uri": "https://localhost:8080/",
          "height": 50
        },
        "outputId": "9eb2cc1c-6335-4f7d-b156-f10a7f7ad8fb"
      },
      "source": [
        " \n",
        "def Fib(n):\n",
        "    if n<0: \n",
        "        print(\"Incorrect input\") \n",
        "    elif n==1: \n",
        "        return 0 \n",
        "    elif n==2: \n",
        "        return 1\n",
        "    else: \n",
        "        return Fib(n-1)+Fib(n-2)  \n",
        "print(Fib(int(input())))\n"
      ],
      "execution_count": 6,
      "outputs": [
        {
          "output_type": "stream",
          "text": [
            "10\n",
            "34\n"
          ],
          "name": "stdout"
        }
      ]
    },
    {
      "cell_type": "code",
      "metadata": {
        "id": "eTm25tQKREHe",
        "colab_type": "code",
        "colab": {}
      },
      "source": [
        ""
      ],
      "execution_count": null,
      "outputs": []
    },
    {
      "cell_type": "code",
      "metadata": {
        "id": "FHXF3w2kN8Be",
        "colab_type": "code",
        "colab": {
          "base_uri": "https://localhost:8080/",
          "height": 50
        },
        "outputId": "8e28736a-f263-4080-b417-a555df485279"
      },
      "source": [
        "#prog_1:-nth fibonacci\n",
        "n=int(input(\"which term? \"))\n",
        "f=[]\n",
        "f.insert(0,0)\n",
        "f.insert(1,1)\n",
        "for i in range(2,n+1):\n",
        "   f.insert(i,f[i-1] +f[i-2])\n",
        "print(f\"{n}th term is {f[n-1]}\")"
      ],
      "execution_count": 1,
      "outputs": [
        {
          "output_type": "stream",
          "text": [
            "which term? 7\n",
            "7th term is 8\n"
          ],
          "name": "stdout"
        }
      ]
    }
  ]
}