{
  "nbformat": 4,
  "nbformat_minor": 0,
  "metadata": {
    "colab": {
      "name": "Untitled1.ipynb",
      "provenance": [],
      "collapsed_sections": [],
      "authorship_tag": "ABX9TyOsZn/PrWJggsBYoKotOLuA",
      "include_colab_link": true
    },
    "kernelspec": {
      "name": "python3",
      "display_name": "Python 3"
    }
  },
  "cells": [
    {
      "cell_type": "markdown",
      "metadata": {
        "id": "view-in-github",
        "colab_type": "text"
      },
      "source": [
        "<a href=\"https://colab.research.google.com/github/bommankondapraveenkumar/datadime/blob/master/python_workbook.ipynb\" target=\"_parent\"><img src=\"https://colab.research.google.com/assets/colab-badge.svg\" alt=\"Open In Colab\"/></a>"
      ]
    },
    {
      "cell_type": "code",
      "metadata": {
        "id": "u5Fi6jGojva1",
        "colab_type": "code",
        "colab": {
          "base_uri": "https://localhost:8080/",
          "height": 118
        },
        "outputId": "c0ec8e91-5adf-4f39-a1a3-22b5b4c48561"
      },
      "source": [
        "def mailing_address():\n",
        "  print(\" Mailing_Address:\\n H.NO:1-7-47/5/G\\n Bapaunagar\\n Adarsha Hills\\n Narayanpet\\n\")\n",
        "mailing_address()"
      ],
      "execution_count": 12,
      "outputs": [
        {
          "output_type": "stream",
          "text": [
            " Mailing_Address:\n",
            " H.NO:1-7-47/5/G\n",
            " Bapaunagar\n",
            " Adarsha Hills\n",
            " Narayanpet\n",
            "\n"
          ],
          "name": "stdout"
        }
      ]
    },
    {
      "cell_type": "code",
      "metadata": {
        "id": "u45J-b_Dv5CP",
        "colab_type": "code",
        "colab": {
          "base_uri": "https://localhost:8080/",
          "height": 50
        },
        "outputId": "0eb242e1-830a-4ec4-f7f4-f5f7addcb5ac"
      },
      "source": [
        "def hello():\n",
        "  c=input(\"eneter your name\")\n",
        "  print(\"hello\",c)\n",
        "hello()"
      ],
      "execution_count": 14,
      "outputs": [
        {
          "output_type": "stream",
          "text": [
            "eneter your namepraveen\n",
            "hello praveen\n"
          ],
          "name": "stdout"
        }
      ]
    },
    {
      "cell_type": "code",
      "metadata": {
        "id": "kFcEeajSzUUs",
        "colab_type": "code",
        "colab": {
          "base_uri": "https://localhost:8080/",
          "height": 101
        },
        "outputId": "07b3b54c-1e54-4208-d295-45f203590860"
      },
      "source": [
        "def area():\n",
        "  length=float(input(\"enter the length:\\n\"))\n",
        "  width=float(input(\"enter the width:\\n\"))\n",
        "  room_area=length*width\n",
        "  print(room_area)\n",
        "area()"
      ],
      "execution_count": 17,
      "outputs": [
        {
          "output_type": "stream",
          "text": [
            "enter the length:\n",
            "12.1\n",
            "enter the width:\n",
            "12.4\n",
            "150.04\n"
          ],
          "name": "stdout"
        }
      ]
    }
  ]
}